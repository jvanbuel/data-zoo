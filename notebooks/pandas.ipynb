{
 "cells": [
  {
   "cell_type": "code",
   "execution_count": null,
   "metadata": {},
   "outputs": [],
   "source": [
    "import sqlite3\n",
    "import pandas as pd\n",
    "\n",
    "cnx = sqlite3.connect('../data/sqlite/spotify.sqlite')\n",
    "table_names = pd.read_sql_query(\"SELECT name FROM sqlite_schema WHERE type='table'\", cnx)"
   ]
  },
  {
   "cell_type": "code",
   "execution_count": null,
   "metadata": {},
   "outputs": [],
   "source": [
    "table_names"
   ]
  },
  {
   "cell_type": "code",
   "execution_count": null,
   "metadata": {},
   "outputs": [],
   "source": [
    "tables = {}\n",
    "cnx.text_factory = lambda b: b.decode(errors = 'ignore') # to avoid UTF-8 encoding errors\n",
    "for table in table_names['name']:\n",
    "    tables[table] = pd.read_sql_query(f\"SELECT * FROM {table}\", cnx)"
   ]
  },
  {
   "cell_type": "code",
   "execution_count": null,
   "metadata": {},
   "outputs": [],
   "source": [
    "artists = tables[\"artists\"]\n",
    "followers_artists = artists.sort_values(by=['followers'], ascending=False, inplace=False)"
   ]
  },
  {
   "cell_type": "code",
   "execution_count": null,
   "metadata": {},
   "outputs": [],
   "source": [
    "followers_artists.head(10)"
   ]
  }
 ],
 "metadata": {
  "kernelspec": {
   "display_name": "Python 3.10.4 ('.venv': poetry)",
   "language": "python",
   "name": "python3"
  },
  "language_info": {
   "codemirror_mode": {
    "name": "ipython",
    "version": 3
   },
   "file_extension": ".py",
   "mimetype": "text/x-python",
   "name": "python",
   "nbconvert_exporter": "python",
   "pygments_lexer": "ipython3",
   "version": "3.10.4"
  },
  "vscode": {
   "interpreter": {
    "hash": "ff2cdc8286302529872b6cf63d24962db22d57c8d79b939c273c02f46c4141c6"
   }
  }
 },
 "nbformat": 4,
 "nbformat_minor": 2
}
