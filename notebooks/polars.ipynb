{
 "cells": [
  {
   "cell_type": "code",
   "execution_count": null,
   "metadata": {},
   "outputs": [],
   "source": [
    "import polars as pl\n",
    "from pathlib import Path \n",
    "\n",
    "path = Path.cwd().parent / \"data\" / \"sqlite\" / \"spotify.sqlite\"\n",
    "conn_string = f\"sqlite://{path}\"\n",
    "\n",
    "table_names = pl.read_sql(\"SELECT name FROM sqlite_schema WHERE type='table'\", conn_string)"
   ]
  },
  {
   "cell_type": "code",
   "execution_count": null,
   "metadata": {},
   "outputs": [],
   "source": [
    "tables = {}\n",
    "for table in table_names['name']:\n",
    "    tables[table] = pl.read_parquet(source=Path.cwd().parent / \"data\" / \"parquet\" / f\"{table}.parquet\")"
   ]
  }
 ],
 "metadata": {
  "kernelspec": {
   "display_name": "Python 3.10.4 ('.venv': poetry)",
   "language": "python",
   "name": "python3"
  },
  "language_info": {
   "codemirror_mode": {
    "name": "ipython",
    "version": 3
   },
   "file_extension": ".py",
   "mimetype": "text/x-python",
   "name": "python",
   "nbconvert_exporter": "python",
   "pygments_lexer": "ipython3",
   "version": "3.10.4"
  },
  "vscode": {
   "interpreter": {
    "hash": "ff2cdc8286302529872b6cf63d24962db22d57c8d79b939c273c02f46c4141c6"
   }
  }
 },
 "nbformat": 4,
 "nbformat_minor": 2
}
